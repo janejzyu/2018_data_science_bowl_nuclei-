{
 "cells": [
  {
   "cell_type": "code",
   "execution_count": 1,
   "metadata": {
    "collapsed": false
   },
   "outputs": [
    {
     "name": "stderr",
     "output_type": "stream",
     "text": [
      "//anaconda/lib/python2.7/site-packages/matplotlib/font_manager.py:273: UserWarning: Matplotlib is building the font cache using fc-list. This may take a moment.\n",
      "  warnings.warn('Matplotlib is building the font cache using fc-list. This may take a moment.')\n",
      "Using TensorFlow backend.\n"
     ]
    }
   ],
   "source": [
    "import os\n",
    "import sys\n",
    "import random\n",
    "import warnings\n",
    "\n",
    "import numpy as np\n",
    "import pandas as pd\n",
    "\n",
    "import matplotlib.pyplot as plt\n",
    "\n",
    "from tqdm import tqdm\n",
    "from itertools import chain\n",
    "from skimage.io import imread, imshow, imread_collection, concatenate_images\n",
    "from skimage.transform import resize\n",
    "from skimage.morphology import label\n",
    "\n",
    "from keras.models import Model, load_model\n",
    "from keras.layers import Input, UpSampling2D\n",
    "from keras.layers.core import Dropout, Lambda\n",
    "from keras.layers.convolutional import Conv2D, Conv2DTranspose\n",
    "from keras.layers.pooling import MaxPooling2D\n",
    "from keras.layers.merge import concatenate\n",
    "from keras.callbacks import EarlyStopping, ModelCheckpoint\n",
    "from keras import backend as K\n",
    "\n",
    "import tensorflow as tf\n",
    "\n",
    "# Set some parameters\n",
    "IMG_WIDTH = 128\n",
    "IMG_HEIGHT = 128\n",
    "IMG_CHANNELS = 3\n",
    "TRAIN_PATH = '../input/stage1_train/'\n",
    "TEST_PATH = '../input/stage1_test/'\n",
    "\n",
    "warnings.filterwarnings('ignore', category=UserWarning, module='skimage')\n",
    "seed = 42\n",
    "random.seed = seed\n",
    "np.random.seed = seed"
   ]
  },
  {
   "cell_type": "code",
   "execution_count": 2,
   "metadata": {
    "collapsed": true
   },
   "outputs": [],
   "source": [
    "train_ids = next(os.walk(TRAIN_PATH))[1]\n",
    "test_ids = next(os.walk(TEST_PATH))[1]"
   ]
  },
  {
   "cell_type": "code",
   "execution_count": null,
   "metadata": {
    "collapsed": false
   },
   "outputs": [],
   "source": [
    "# Get and resize train images and masks\n",
    "X_train = np.zeros((len(train_ids), IMG_HEIGHT, IMG_WIDTH, IMG_CHANNELS), dtype=np.uint8)\n",
    "Y_train = np.zeros((len(train_ids), IMG_HEIGHT, IMG_WIDTH, 1), dtype=np.bool)\n",
    "print('Getting and resizing train images and masks ... ')\n",
    "sys.stdout.flush()\n",
    "for n, id_ in tqdm(enumerate(train_ids), total=len(train_ids)):\n",
    "    path = TRAIN_PATH + id_\n",
    "    img = imread(path + '/images/' + id_ + '.png')[:,:,:IMG_CHANNELS]\n",
    "    img = resize(img, (IMG_HEIGHT, IMG_WIDTH), mode='constant', preserve_range=True)\n",
    "    X_train[n] = img\n",
    "    mask = np.zeros((IMG_HEIGHT, IMG_WIDTH, 1), dtype=np.bool)\n",
    "    for mask_file in next(os.walk(path + '/masks/'))[2]:\n",
    "        mask_ = imread(path + '/masks/' + mask_file)\n",
    "        mask_ = np.expand_dims(resize(mask_, (IMG_HEIGHT, IMG_WIDTH), mode='constant', \n",
    "                                      preserve_range=True), axis=-1)\n",
    "        mask = np.maximum(mask, mask_)\n",
    "    Y_train[n] = mask\n",
    "# Get and resize test images\n",
    "X_test = np.zeros((len(test_ids), IMG_HEIGHT, IMG_WIDTH, IMG_CHANNELS), dtype=np.uint8)\n",
    "sizes_test = []\n",
    "print('Getting and resizing test images ... ')\n",
    "sys.stdout.flush()\n",
    "for n, id_ in tqdm(enumerate(test_ids), total=len(test_ids)):\n",
    "    path = TEST_PATH + id_\n",
    "    img = imread(path + '/images/' + id_ + '.png')[:,:,:IMG_CHANNELS]\n",
    "    sizes_test.append([img.shape[0], img.shape[1]])\n",
    "    img = resize(img, (IMG_HEIGHT, IMG_WIDTH), mode='constant', preserve_range=True)\n",
    "    X_test[n] = img\n",
    "\n",
    "print('Done!')"
   ]
  },
  {
   "cell_type": "code",
   "execution_count": null,
   "metadata": {
    "collapsed": true
   },
   "outputs": [],
   "source": [
    "def mean_iou(y_true, y_pred):\n",
    "    prec = []\n",
    "    for t in np.arange(0.5, 1.0, 0.05):\n",
    "        y_pred_ = tf.to_int32(y_pred > t)\n",
    "        score, up_opt = tf.metrics.mean_iou(y_true, y_pred_, 2)\n",
    "        K.get_session().run(tf.local_variables_initializer())\n",
    "        with tf.control_dependencies([up_opt]):\n",
    "            score = tf.identity(score)\n",
    "        prec.append(score)\n",
    "    return K.mean(K.stack(prec), axis=0)"
   ]
  },
  {
   "cell_type": "code",
   "execution_count": null,
   "metadata": {
    "collapsed": true
   },
   "outputs": [],
   "source": [
    "def get_UNet(filters = 64, act = 'relu', pretrained_weights = None, prob = 0.1):\n",
    "    \n",
    "    inputs = Input(shape = (IMG_WIDTH, IMG_HEIGHT, IMG_CHANNELS))\n",
    "    pad = \n",
    "    # contraction: encoder\n",
    "    conv1 = Conv2D(filters, 3, activation = act, padding = pad, kernel_initializer = 'he_normal')(inputs)\n",
    "    conv1 = Dropout(prob) (conv1)\n",
    "    conv1 = Conv2D(filters, 3, activation = act, padding = pad, kernel_initializer = 'he_normal')(conv1)\n",
    "    pool1 = MaxPooling2D(pool_size=(2, 2))(conv1)\n",
    "    \n",
    "    conv2 = Conv2D(filters * 2, 3, activation = act, padding = pad, kernel_initializer = 'he_normal')(pool1)\n",
    "    conv2 = Dropout(prob) (conv2)    \n",
    "    conv2 = Conv2D(filters * 2, 3, activation = act, padding = pad, kernel_initializer = 'he_normal')(conv2)\n",
    "    pool2 = MaxPooling2D(pool_size=(2, 2))(conv2)\n",
    "    \n",
    "    conv3 = Conv2D(filters * 4, 3, activation = act, padding = pad, kernel_initializer = 'he_normal')(pool2)\n",
    "    conv3 = Dropout(prob) (conv3)\n",
    "    conv3 = Conv2D(filters * 4, 3, activation = act, padding = pad, kernel_initializer = 'he_normal')(conv3)\n",
    "    pool3 = MaxPooling2D(pool_size=(2, 2))(conv3)\n",
    "    \n",
    "    conv4 = Conv2D(filters * 8, 3, activation = act, padding = pad, kernel_initializer = 'he_normal')(pool3)\n",
    "    conv4 = Dropout(prob) (conv4)\n",
    "    conv4 = Conv2D(filters * 8, 3, activation = act, padding = pad, kernel_initializer = 'he_normal')(conv4)\n",
    "    pool4 = MaxPooling2D(pool_size=(2, 2))(conv4)   \n",
    "    \n",
    "    conv5 = Conv2D(filters * 16, 3, activation = act, padding = pad, kernel_initializer = 'he_normal')(pool4)\n",
    "    conv5 = Dropout(prob) (conv5)\n",
    "    conv5 = Conv2D(filters * 16, 3, activation = act, padding = pad, kernel_initializer = 'he_normal')(conv5)\n",
    "    \n",
    "    # expansion: decoder\n",
    "    up6 = Conv2DTranspose(filters * 8, 2, strides = 2, padding='same')(conv5)\n",
    "    up6 = concatenate([conv4, up6])\n",
    "    conv6 = Conv2D(filters * 8, 3, activation = act, padding = pad, kernel_initializer = 'he_normal')(up6)\n",
    "    conv6 = Dropout(prob) (conv6)    \n",
    "    conv6 = Conv2D(filters * 8, 3, activation = act, padding = pad, kernel_initializer = 'he_normal')(conv6)\n",
    "    \n",
    "    up7 = Conv2DTranspose(filters * 4, 2, strides = 2, padding='same')(conv6)\n",
    "    up7 = concatenate([conv3, up7])\n",
    "    conv7 = Conv2D(filters * 4, 3, activation = act, padding = pad, kernel_initializer = 'he_normal')(up7)\n",
    "    conv7 = Dropout(prob) (conv7)\n",
    "    conv7 = Conv2D(filters * 4, 3, activation = act, padding = pad, kernel_initializer = 'he_normal')(conv7)\n",
    "        \n",
    "    up8 = Conv2DTranspose(filters * 2, 2, strides = 2, padding='same')(conv7)\n",
    "    up8 = concatenate([conv2, up8])\n",
    "    conv8 = Conv2D(filters * 2, 3, activation = act, padding = pad, kernel_initializer = 'he_normal')(up8)\n",
    "    conv8 = Dropout(prob) (conv8)\n",
    "    conv8 = Conv2D(filters * 2, 3, activation = act, padding = pad, kernel_initializer = 'he_normal')(conv8)\n",
    "        \n",
    "    up9 = Conv2DTranspose(filters, 2, strides = 2, padding='same')(conv8)\n",
    "    up9 = concatenate([conv1, up9])\n",
    "    conv9 = Conv2D(filters, 3, activation = act, padding = pad, kernel_initializer = 'he_normal')(up9)\n",
    "    conv9 = Dropout(prob) (conv9)\n",
    "    conv9 = Conv2D(filters, 3, activation = act, padding = pad, kernel_initializer = 'he_normal')(conv9)\n",
    "    \n",
    "    outputs = Conv2D(1, 1, activation = 'sigmoid', padding = pad, kernel_initializer = 'he_normal')(conv9)\n",
    "\n",
    "    model = Model(inputs = [inputs], outputs = [outputs])\n",
    "    model.compile(loss='binary_crossentropy', optimizer='adam', metrics = [mean_iou])\n",
    "    model.summary()\n",
    "    \n",
    "    if(pretrained_weights):\n",
    "        model.load_weights(pretrained_weights)\n",
    "    return model\n",
    "\n"
   ]
  }
 ],
 "metadata": {
  "kernelspec": {
   "display_name": "Python 2",
   "language": "python",
   "name": "python2"
  },
  "language_info": {
   "codemirror_mode": {
    "name": "ipython",
    "version": 2
   },
   "file_extension": ".py",
   "mimetype": "text/x-python",
   "name": "python",
   "nbconvert_exporter": "python",
   "pygments_lexer": "ipython2",
   "version": "2.7.12"
  }
 },
 "nbformat": 4,
 "nbformat_minor": 0
}
